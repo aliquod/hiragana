{
 "cells": [
  {
   "cell_type": "markdown",
   "metadata": {},
   "source": [
    "# Hiragana Differentiator"
   ]
  },
  {
   "cell_type": "code",
   "execution_count": 3,
   "metadata": {},
   "outputs": [],
   "source": [
    "import os\n",
    "import re\n",
    "import struct\n",
    "from PIL import Image\n",
    "import numpy as np\n",
    "from tqdm.notebook import tqdm\n",
    "from keras import optimizers, callbacks, models, layers\n",
    "import matplotlib.pyplot as plt"
   ]
  },
  {
   "cell_type": "markdown",
   "metadata": {},
   "source": [
    "---\n",
    "## Part I - *Preparing the Data*"
   ]
  },
  {
   "cell_type": "code",
   "execution_count": 4,
   "metadata": {},
   "outputs": [
    {
     "name": "stdout",
     "output_type": "stream",
     "text": [
      "There are 46 hiragana characters (without voiced consonants) in the Japanese alphabet, despite it being called gojyu-on, the fifty sounds.\n"
     ]
    }
   ],
   "source": [
    "vowels = ['A','I','U','E','O']\n",
    "consonants = ['','K','S','T','N','H','M','Y','R','W']\n",
    "goju = [c+v for v in vowels for c in consonants]\n",
    "\n",
    "goju.append('N') # the 'NN' (batsu-on) that does not have a vowel attached\n",
    "[goju.remove(x) for x in ['YE','YI','WI','WU','WE']]  # there are no such hiraganas\n",
    "\n",
    "print(f\"There are {len(goju)} hiragana characters (without voiced consonants) in the Japanese alphabet, despite it being called gojuon, the fifty sounds.\")"
   ]
  },
  {
   "cell_type": "markdown",
   "metadata": {},
   "source": [
    "### Getting metadata from the ETL7INFO file\n",
    "Generates a dictionary containing (<ins>*file name*</ins> : <ins>*number of samples in the file*</ins>) pairs\n",
    "\n",
    "See [this page](http://etlcdb.db.aist.go.jp/etlcdb/etln/etl7/etl7.htm) for information of the source (it is in Japanese, though).  \n",
    "\n",
    "* The page counts 16800 samples, where in fact each corresponds to characters written in two boxes (文字枠), one in a small box and another in a large box; hence there are 16800\\*2=33600 images.  \n",
    "\n",
    "* LC contains the samples from large boxes, and SC from small ones.  \n",
    "* The metadata contains information about files that are absent from the downloaded package."
   ]
  },
  {
   "cell_type": "code",
   "execution_count": 5,
   "metadata": {},
   "outputs": [
    {
     "name": "stdout",
     "output_type": "stream",
     "text": [
      "* ETL7LC_1 contains 9600 samples\n",
      "* ETL7LC_2 contains 7200 samples\n",
      "* ETL7SC_1 contains 9600 samples\n",
      "* ETL7SC_2 contains 7200 samples\n"
     ]
    }
   ],
   "source": [
    "file_dir = r'ETL7'\n",
    "\n",
    "metadata = {}\n",
    "\n",
    "with open(os.path.join(file_dir,'ETL7INFO')) as info:\n",
    "    for line in info:\n",
    "        \n",
    "        line = repr(line).replace('\\\\t',' ').replace('\\\\n','')\n",
    "\n",
    "        filename = line.split(' ')[0].upper().replace(\"'\",'')\n",
    "\n",
    "        n_recs_regex = re.compile('\\=([0-9]*)record')  # use regex to extract the number of samples in each file\n",
    "        n_recs = int(n_recs_regex.findall(line)[0])\n",
    "\n",
    "        metadata[filename] = n_recs\n",
    "\n",
    "for filename, n_recs in metadata.items():\n",
    "    if filename in [f'ETL7{batch}' for batch in ['LC_1','LC_2','SC_1','SC_2']]:  # these are files that are actually present\n",
    "        print(f'* {filename} contains {n_recs} samples')"
   ]
  },
  {
   "cell_type": "markdown",
   "metadata": {},
   "source": [
    "### Parsing the files containing the samples\n",
    "[This form](http://etlcdb.db.aist.go.jp/etlcdb/etln/form_m.htm) explains how the data is formatted bit-wise."
   ]
  },
  {
   "cell_type": "code",
   "execution_count": 30,
   "metadata": {},
   "outputs": [
    {
     "name": "stdout",
     "output_type": "stream",
     "text": [
      "* Reading ETL7LC_1...\n"
     ]
    },
    {
     "data": {
      "application/vnd.jupyter.widget-view+json": {
       "model_id": "1902c254e7444f248b66afa65e2b701c",
       "version_major": 2,
       "version_minor": 0
      },
      "text/plain": [
       "  0%|          | 0/9600 [00:00<?, ?it/s]"
      ]
     },
     "metadata": {},
     "output_type": "display_data"
    },
    {
     "name": "stdout",
     "output_type": "stream",
     "text": [
      "* Reading ETL7LC_2...\n"
     ]
    },
    {
     "data": {
      "application/vnd.jupyter.widget-view+json": {
       "model_id": "bfdb8400c9b94210bcfd774c47ecdcf3",
       "version_major": 2,
       "version_minor": 0
      },
      "text/plain": [
       "  0%|          | 0/7200 [00:00<?, ?it/s]"
      ]
     },
     "metadata": {},
     "output_type": "display_data"
    },
    {
     "name": "stdout",
     "output_type": "stream",
     "text": [
      "* Reading ETL7SC_1...\n"
     ]
    },
    {
     "data": {
      "application/vnd.jupyter.widget-view+json": {
       "model_id": "a97d374d3e8b4f0ab5a508da47fcfbaf",
       "version_major": 2,
       "version_minor": 0
      },
      "text/plain": [
       "  0%|          | 0/9600 [00:00<?, ?it/s]"
      ]
     },
     "metadata": {},
     "output_type": "display_data"
    },
    {
     "name": "stdout",
     "output_type": "stream",
     "text": [
      "* Reading ETL7SC_2...\n"
     ]
    },
    {
     "data": {
      "application/vnd.jupyter.widget-view+json": {
       "model_id": "4bcd845c8a5c45cebb02df3c2db893c8",
       "version_major": 2,
       "version_minor": 0
      },
      "text/plain": [
       "  0%|          | 0/7200 [00:00<?, ?it/s]"
      ]
     },
     "metadata": {},
     "output_type": "display_data"
    },
    {
     "name": "stdout",
     "output_type": "stream",
     "text": [
      "There are 33600 samples, where the LABELS are stored in an array of shape (33600,),\n",
      "and the IMAGES have been stored in a numpy array of shape (33600, 64, 64).\n",
      "\n",
      "This is the first sample: the hiragana \"A\".\n"
     ]
    },
    {
     "data": {
      "image/png": "[encoded data removed]",
      "text/plain": [
       "<Figure size 288x288 with 1 Axes>"
      ]
     },
     "metadata": {
      "needs_background": "light"
     },
     "output_type": "display_data"
    }
   ],
   "source": [
    "images = []\n",
    "labels = []\n",
    "\n",
    "for filename in [f'ETL7{batch}' for batch in ['LC_1','LC_2','SC_1','SC_2']]:\n",
    "\n",
    "    n_recs = metadata[filename]  # retrieve the number of samples in this file\n",
    "\n",
    "    with open(os.path.join(file_dir, filename), 'rb') as file:\n",
    "        \n",
    "        print(f'* Reading {filename}...')\n",
    "        for i in tqdm(range(n_recs)):\n",
    "            \n",
    "            # the index (irrelevant)\n",
    "            _ = file.read(2) \n",
    "            \n",
    "            # the label\n",
    "            label_bits = file.read(2)\n",
    "            label = label_bits.decode('utf8').strip()\n",
    "            labels.append(label)\n",
    "\n",
    "            # metadata about this particular sample (irrelevant)\n",
    "            _ = file.read(28)\n",
    "            \n",
    "            # the (64,63) image in 2016 bits (4 bits per pixel), value in range(0,16) (16=brightest)\n",
    "            image_bits = file.read(2016)\n",
    "\n",
    "            image = Image.frombytes('F', (64, 63), image_bits, 'bit', 4).point(lambda i: i / 16)\n",
    "\n",
    "            image_array = np.asarray(image)\n",
    "            image_array = np.pad(image_array,((0,1),(0,0)))  # pad the image to be (64,64), rather than (63,64)\n",
    "            images.append(image_array)\n",
    "\n",
    "            # unused bits at the end (irrelevant)\n",
    "            _ = file.read(4)\n",
    "\n",
    "images = np.asarray(images)\n",
    "labels = np.asarray(labels)\n",
    "\n",
    "print(f'There are {len(labels)} samples, where the LABELS are stored in an array of shape {labels.shape},')\n",
    "print(f'and the IMAGES have been stored in a numpy array of shape {images.shape}.')\n",
    "print(f'\\nThis is the first sample: the hiragana \"{labels[0]}\".')\n",
    "plt.matshow(images[0,:,:] * 255, cmap='Greys');"
   ]
  },
  {
   "cell_type": "markdown",
   "metadata": {},
   "source": [
    "Alternatively, you can look up the first sample of other hiraganas here."
   ]
  },
  {
   "cell_type": "code",
   "execution_count": 7,
   "metadata": {},
   "outputs": [
    {
     "name": "stdout",
     "output_type": "stream",
     "text": [
      "This is the first sample of MU.\n"
     ]
    },
    {
     "data": {
      "image/png": "[encoded data removed]",
      "text/plain": [
       "<Figure size 288x288 with 1 Axes>"
      ]
     },
     "metadata": {
      "needs_background": "light"
     },
     "output_type": "display_data"
    }
   ],
   "source": [
    "your_hiragana = 'MU'\n",
    "\n",
    "try:\n",
    "    i = labels.index(your_hiragana)\n",
    "    image_array = images[i]\n",
    "    print(f'This is the first sample of {your_hiragana}.')\n",
    "    plt.matshow(image_array * 255, cmap='Greys');\n",
    "except ValueError:\n",
    "    print('''Please use a valid key: the hiragana should be romanized and capitalized;\n",
    "    in addition, voiced hiraganas are not present in the sample.''')"
   ]
  },
  {
   "cell_type": "markdown",
   "metadata": {},
   "source": [
    "### Encoding the textual labels into one-hot labels  \n",
    "A function that returns a numpy array, where each row is a one-hot label."
   ]
  },
  {
   "cell_type": "code",
   "execution_count": 31,
   "metadata": {},
   "outputs": [],
   "source": [
    "def to_one_hot(labels, encoder, dimension=None):\n",
    "    if dimension is None:\n",
    "        dimension = len(set(labels))\n",
    "    results = np.zeros((len(labels), dimension))\n",
    "    for i, label in tqdm(enumerate(labels)):\n",
    "        results[i, encoder[label]] = 1.\n",
    "    return results"
   ]
  },
  {
   "cell_type": "markdown",
   "metadata": {},
   "source": [
    "Provide a dictionary that maps texual labels to indices"
   ]
  },
  {
   "cell_type": "code",
   "execution_count": 32,
   "metadata": {},
   "outputs": [
    {
     "data": {
      "application/vnd.jupyter.widget-view+json": {
       "model_id": "56be92230edf414e81f853b3498879fc",
       "version_major": 2,
       "version_minor": 0
      },
      "text/plain": [
       "0it [00:00, ?it/s]"
      ]
     },
     "metadata": {},
     "output_type": "display_data"
    }
   ],
   "source": [
    "goju_plus = goju + [',,', ',0']  # \",,\" is dakuten as in ば, while \",0\" is handakuten as in ぱ\n",
    "\n",
    "encoder = {item:index for index,item in enumerate(goju_plus)}\n",
    "\n",
    "encoded_labels = to_one_hot(labels, encoder)"
   ]
  },
  {
   "cell_type": "markdown",
   "metadata": {},
   "source": [
    "### Splitting the data into training and validation sets  \n",
    "First shuffle the samples (the database has them in gojuon order by default):"
   ]
  },
  {
   "cell_type": "code",
   "execution_count": 46,
   "metadata": {},
   "outputs": [
    {
     "name": "stdout",
     "output_type": "stream",
     "text": [
      "KI\n"
     ]
    },
    {
     "data": {
      "image/png": "[encoded data removed]",
      "text/plain": [
       "<Figure size 288x288 with 1 Axes>"
      ]
     },
     "metadata": {
      "needs_background": "light"
     },
     "output_type": "display_data"
    }
   ],
   "source": [
    "reordered = np.random.permutation(range(len(images)))\n",
    "\n",
    "reordered_images = images[reordered]\n",
    "\n",
    "reordered_labels = encoded_labels[reordered]\n",
    "\n",
    "print(f\"This is the first sample after shuffling: {goju_plus[list(reordered_labels[0]).index(1)]}\")\n",
    "plt.matshow(reordered_images[0] * 255, cmap='Greys')"
   ]
  },
  {
   "cell_type": "markdown",
   "metadata": {},
   "source": [
    "Then assign a proportion of samples to the training set, and the rest to validation:"
   ]
  },
  {
   "cell_type": "code",
   "execution_count": 41,
   "metadata": {},
   "outputs": [],
   "source": [
    "n_samples = len(labels)\n",
    "\n",
    "train_proportion = 0.8\n",
    "train_size = int(np.round(n_samples * train_proportion))\n",
    "\n",
    "train_data = reordered_images[:train_size]\n",
    "train_labels = reordered_labels[:train_size]\n",
    "\n",
    "valid_data = reordered_images[train_size:]\n",
    "valid_labels = reordered_labels[train_size:]"
   ]
  },
  {
   "cell_type": "markdown",
   "metadata": {},
   "source": [
    "---\n",
    "## Part II - *Training the Model*"
   ]
  },
  {
   "cell_type": "markdown",
   "metadata": {},
   "source": [
    "### Defining the network architecture  \n",
    "The model converges quickly with minimal overfitting, and the ReduceLROnPlateau callback makes regularization unnecessary.\n",
    "\n",
    "Plus, dropout makes training error higher than validation error (since it is only activated during training but not during validation), which makes error curves look weird."
   ]
  },
  {
   "cell_type": "code",
   "execution_count": 55,
   "metadata": {},
   "outputs": [
    {
     "name": "stdout",
     "output_type": "stream",
     "text": [
      "Model: \"sequential_4\"\n",
      "_________________________________________________________________\n",
      " Layer (type)                Output Shape              Param #   \n",
      "=================================================================\n",
      " conv2d_16 (Conv2D)          (None, 62, 62, 32)        320       \n",
      "                                                                 \n",
      " batch_normalization_20 (Bat  (None, 62, 62, 32)       128       \n",
      " chNormalization)                                                \n",
      "                                                                 \n",
      " max_pooling2d_16 (MaxPoolin  (None, 31, 31, 32)       0         \n",
      " g2D)                                                            \n",
      "                                                                 \n",
      " conv2d_17 (Conv2D)          (None, 29, 29, 32)        9248      \n",
      "                                                                 \n",
      " batch_normalization_21 (Bat  (None, 29, 29, 32)       128       \n",
      " chNormalization)                                                \n",
      "                                                                 \n",
      " max_pooling2d_17 (MaxPoolin  (None, 14, 14, 32)       0         \n",
      " g2D)                                                            \n",
      "                                                                 \n",
      " conv2d_18 (Conv2D)          (None, 12, 12, 32)        9248      \n",
      "                                                                 \n",
      " batch_normalization_22 (Bat  (None, 12, 12, 32)       128       \n",
      " chNormalization)                                                \n",
      "                                                                 \n",
      " max_pooling2d_18 (MaxPoolin  (None, 6, 6, 32)         0         \n",
      " g2D)                                                            \n",
      "                                                                 \n",
      " conv2d_19 (Conv2D)          (None, 4, 4, 32)          9248      \n",
      "                                                                 \n",
      " batch_normalization_23 (Bat  (None, 4, 4, 32)         128       \n",
      " chNormalization)                                                \n",
      "                                                                 \n",
      " max_pooling2d_19 (MaxPoolin  (None, 2, 2, 32)         0         \n",
      " g2D)                                                            \n",
      "                                                                 \n",
      " flatten_4 (Flatten)         (None, 128)               0         \n",
      "                                                                 \n",
      " dense_8 (Dense)             (None, 128)               16512     \n",
      "                                                                 \n",
      " batch_normalization_24 (Bat  (None, 128)              512       \n",
      " chNormalization)                                                \n",
      "                                                                 \n",
      " dense_9 (Dense)             (None, 48)                6192      \n",
      "                                                                 \n",
      "=================================================================\n",
      "Total params: 51,792\n",
      "Trainable params: 51,280\n",
      "Non-trainable params: 512\n",
      "_________________________________________________________________\n"
     ]
    }
   ],
   "source": [
    "model = models.Sequential([\n",
    "    layers.Conv2D(32, (3,3), activation='relu', input_shape=(64,64,1)),\n",
    "    layers.BatchNormalization(),\n",
    "    layers.MaxPooling2D((2,2)),\n",
    "    layers.Conv2D(32, (3,3), activation='relu'),\n",
    "    layers.BatchNormalization(),\n",
    "    layers.MaxPooling2D((2,2)),\n",
    "    layers.Conv2D(32, (3,3), activation='relu'),\n",
    "    layers.BatchNormalization(),\n",
    "    layers.MaxPooling2D((2,2)),\n",
    "    layers.Conv2D(32, (3,3), activation='relu'),\n",
    "    layers.BatchNormalization(),\n",
    "    layers.MaxPooling2D((2,2)),\n",
    "    layers.Flatten(),\n",
    "    #layers.Dropout(0.5)\n",
    "    layers.Dense(128, activation='relu'),\n",
    "    layers.BatchNormalization(),\n",
    "    layers.Dense(48, activation='softmax')\n",
    "])\n",
    "\n",
    "model.summary()\n",
    "\n",
    "model.compile(loss='categorical_crossentropy',\n",
    "            optimizer=optimizers.RMSprop(learning_rate=1e-4),\n",
    "            metrics=['acc'])\n",
    "\n",
    "log_dir = 'logs'\n",
    "\n",
    "callback_list = [\n",
    "    callbacks.TensorBoard(\n",
    "        log_dir = log_dir,\n",
    "        histogram_freq = 1,\n",
    "        embeddings_freq = 1),\n",
    "    callbacks.ReduceLROnPlateau(\n",
    "        monitor = 'val_loss',\n",
    "        factor = 0.1,\n",
    "        patience = 10)]"
   ]
  },
  {
   "cell_type": "markdown",
   "metadata": {},
   "source": [
    "### Training the model"
   ]
  },
  {
   "cell_type": "code",
   "execution_count": 56,
   "metadata": {},
   "outputs": [
    {
     "name": "stdout",
     "output_type": "stream",
     "text": [
      "Epoch 1/20\n"
     ]
    },
    {
     "name": "stderr",
     "output_type": "stream",
     "text": [
      "2022-10-03 16:45:45.620127: I tensorflow/core/grappler/optimizers/custom_graph_optimizer_registry.cc:113] Plugin optimizer for device_type GPU is enabled.\n"
     ]
    },
    {
     "name": "stdout",
     "output_type": "stream",
     "text": [
      "269/269 [==============================] - ETA: 0s - loss: 3.1025 - acc: 0.2284"
     ]
    },
    {
     "name": "stderr",
     "output_type": "stream",
     "text": [
      "2022-10-03 16:46:07.033876: I tensorflow/core/grappler/optimizers/custom_graph_optimizer_registry.cc:113] Plugin optimizer for device_type GPU is enabled.\n"
     ]
    },
    {
     "name": "stdout",
     "output_type": "stream",
     "text": [
      "269/269 [==============================] - 24s 81ms/step - loss: 3.1025 - acc: 0.2284 - val_loss: 6.2081 - val_acc: 0.0220 - lr: 1.0000e-04\n",
      "Epoch 2/20\n",
      "269/269 [==============================] - 22s 80ms/step - loss: 1.5958 - acc: 0.6443 - val_loss: 2.8228 - val_acc: 0.2381 - lr: 1.0000e-04\n",
      "Epoch 3/20\n",
      "269/269 [==============================] - 22s 81ms/step - loss: 0.8794 - acc: 0.8353 - val_loss: 0.7355 - val_acc: 0.8595 - lr: 1.0000e-04\n",
      "Epoch 4/20\n",
      "269/269 [==============================] - 22s 81ms/step - loss: 0.5389 - acc: 0.9070 - val_loss: 0.4331 - val_acc: 0.9180 - lr: 1.0000e-04\n",
      "Epoch 5/20\n",
      "269/269 [==============================] - 22s 81ms/step - loss: 0.3642 - acc: 0.9382 - val_loss: 0.3162 - val_acc: 0.9417 - lr: 1.0000e-04\n",
      "Epoch 6/20\n",
      "269/269 [==============================] - 21s 79ms/step - loss: 0.2643 - acc: 0.9552 - val_loss: 0.2467 - val_acc: 0.9519 - lr: 1.0000e-04\n",
      "Epoch 7/20\n",
      "269/269 [==============================] - 21s 78ms/step - loss: 0.2013 - acc: 0.9668 - val_loss: 0.2027 - val_acc: 0.9594 - lr: 1.0000e-04\n",
      "Epoch 8/20\n",
      "269/269 [==============================] - 21s 79ms/step - loss: 0.1593 - acc: 0.9735 - val_loss: 0.1722 - val_acc: 0.9653 - lr: 1.0000e-04\n",
      "Epoch 9/20\n",
      "269/269 [==============================] - 22s 83ms/step - loss: 0.1288 - acc: 0.9795 - val_loss: 0.1498 - val_acc: 0.9683 - lr: 1.0000e-04\n",
      "Epoch 10/20\n",
      "269/269 [==============================] - 22s 82ms/step - loss: 0.1067 - acc: 0.9838 - val_loss: 0.1346 - val_acc: 0.9711 - lr: 1.0000e-04\n",
      "Epoch 11/20\n",
      "269/269 [==============================] - 24s 90ms/step - loss: 0.0892 - acc: 0.9865 - val_loss: 0.1188 - val_acc: 0.9725 - lr: 1.0000e-04\n",
      "Epoch 12/20\n",
      "269/269 [==============================] - 22s 83ms/step - loss: 0.0759 - acc: 0.9887 - val_loss: 0.1091 - val_acc: 0.9754 - lr: 1.0000e-04\n",
      "Epoch 13/20\n",
      "269/269 [==============================] - 22s 82ms/step - loss: 0.0645 - acc: 0.9910 - val_loss: 0.1027 - val_acc: 0.9768 - lr: 1.0000e-04\n",
      "Epoch 14/20\n",
      "269/269 [==============================] - 22s 81ms/step - loss: 0.0553 - acc: 0.9929 - val_loss: 0.0975 - val_acc: 0.9780 - lr: 1.0000e-04\n",
      "Epoch 15/20\n",
      "269/269 [==============================] - 22s 82ms/step - loss: 0.0471 - acc: 0.9946 - val_loss: 0.0923 - val_acc: 0.9796 - lr: 1.0000e-04\n",
      "Epoch 16/20\n",
      "269/269 [==============================] - 23s 87ms/step - loss: 0.0418 - acc: 0.9953 - val_loss: 0.0874 - val_acc: 0.9792 - lr: 1.0000e-04\n",
      "Epoch 17/20\n",
      "269/269 [==============================] - 22s 83ms/step - loss: 0.0360 - acc: 0.9966 - val_loss: 0.0838 - val_acc: 0.9792 - lr: 1.0000e-04\n",
      "Epoch 18/20\n",
      "269/269 [==============================] - 22s 82ms/step - loss: 0.0311 - acc: 0.9973 - val_loss: 0.0803 - val_acc: 0.9810 - lr: 1.0000e-04\n",
      "Epoch 19/20\n",
      "269/269 [==============================] - 22s 82ms/step - loss: 0.0279 - acc: 0.9974 - val_loss: 0.0763 - val_acc: 0.9811 - lr: 1.0000e-04\n",
      "Epoch 20/20\n",
      "269/269 [==============================] - 22s 82ms/step - loss: 0.0236 - acc: 0.9982 - val_loss: 0.0755 - val_acc: 0.9814 - lr: 1.0000e-04\n"
     ]
    },
    {
     "name": "stderr",
     "output_type": "stream",
     "text": [
      "WARNING:absl:Found untraced functions such as _jit_compiled_convolution_op, _jit_compiled_convolution_op, _jit_compiled_convolution_op, _jit_compiled_convolution_op while saving (showing 4 of 4). These functions will not be directly callable after loading.\n"
     ]
    },
    {
     "name": "stdout",
     "output_type": "stream",
     "text": [
      "INFO:tensorflow:Assets written to: classifikanation/assets\n"
     ]
    },
    {
     "name": "stderr",
     "output_type": "stream",
     "text": [
      "INFO:tensorflow:Assets written to: classifikanation/assets\n"
     ]
    }
   ],
   "source": [
    "history = model.fit(\n",
    "    train_data, train_labels,\n",
    "    batch_size = 100,\n",
    "    epochs = 20,\n",
    "    validation_data = (valid_data,valid_labels),\n",
    "    validation_batch_size= 100,\n",
    "    callbacks = callback_list\n",
    ")\n",
    "\n",
    "save_dir = 'classifikanation'\n",
    "model.save(save_dir)"
   ]
  },
  {
   "cell_type": "markdown",
   "metadata": {},
   "source": [
    "### Inspecting the Model  \n",
    "Via TensorBoard:"
   ]
  },
  {
   "cell_type": "code",
   "execution_count": 1,
   "metadata": {},
   "outputs": [
    {
     "data": {
      "text/html": [
       "\n",
       "      <iframe id=\"tensorboard-frame-754a05d50c2a56fb\" width=\"100%\" height=\"800\" frameborder=\"0\">\n",
       "      </iframe>\n",
       "      <script>\n",
       "        (function() {\n",
       "          const frame = document.getElementById(\"tensorboard-frame-754a05d50c2a56fb\");\n",
       "          const url = new URL(\"/\", window.location);\n",
       "          const port = 8088;\n",
       "          if (port) {\n",
       "            url.port = port;\n",
       "          }\n",
       "          frame.src = url;\n",
       "        })();\n",
       "      </script>\n",
       "    "
      ],
      "text/plain": [
       "<IPython.core.display.HTML object>"
      ]
     },
     "metadata": {},
     "output_type": "display_data"
    }
   ],
   "source": [
    "%load_ext tensorboard\n",
    "%tensorboard --logdir=logs --host localhost --port 8088\n",
    "\n",
    "# visit localhost:8088 to explore the model with tensorboard"
   ]
  },
  {
   "cell_type": "code",
   "execution_count": 8,
   "metadata": {},
   "outputs": [
    {
     "name": "stdout",
     "output_type": "stream",
     "text": [
      "Metal device set to: Apple M1\n",
      "\n",
      "systemMemory: 8.00 GB\n",
      "maxCacheSize: 2.67 GB\n",
      "\n"
     ]
    },
    {
     "name": "stderr",
     "output_type": "stream",
     "text": [
      "2022-09-17 17:12:02.746192: I tensorflow/core/common_runtime/pluggable_device/pluggable_device_factory.cc:305] Could not identify NUMA node of platform GPU ID 0, defaulting to 0. Your kernel may not have been built with NUMA support.\n",
      "2022-09-17 17:12:02.747918: I tensorflow/core/common_runtime/pluggable_device/pluggable_device_factory.cc:271] Created TensorFlow device (/job:localhost/replica:0/task:0/device:GPU:0 with 0 MB memory) -> physical PluggableDevice (device: 0, name: METAL, pci bus id: <undefined>)\n"
     ]
    }
   ],
   "source": [
    "model = models.load_model('classifikanation')"
   ]
  },
  {
   "cell_type": "markdown",
   "metadata": {},
   "source": [
    "Plotting the accuracies and losses:"
   ]
  },
  {
   "cell_type": "code",
   "execution_count": 66,
   "metadata": {},
   "outputs": [
    {
     "data": {
      "image/png": "[encoded data removed]",
      "text/plain": [
       "<Figure size 432x288 with 2 Axes>"
      ]
     },
     "metadata": {
      "needs_background": "light"
     },
     "output_type": "display_data"
    }
   ],
   "source": [
    "# the following function is adapted from \n",
    "# Francois Chollet's book Deep Learning with Python\n",
    "\n",
    "def plot_performance(history):\n",
    "    acc = history.history['acc']\n",
    "    val_acc = history.history['val_acc']\n",
    "    loss = history.history['loss']\n",
    "    val_loss = history.history['val_loss']\n",
    "    epochs = range(1, len(acc) + 1)\n",
    "    plt.subplot(1,2,1)\n",
    "    plt.plot(epochs, acc, 'C7', label='Training accuracy')\n",
    "    plt.plot(epochs, val_acc, 'C0', label='Validation accuracy')\n",
    "    plt.title('Accuracy')\n",
    "    plt.legend()\n",
    "    plt.subplot(1,2,2)\n",
    "    plt.plot(epochs, loss, 'C7', label='Training loss')\n",
    "    plt.plot(epochs, val_loss, 'C0', label='Validation loss')\n",
    "    plt.title('Loss')\n",
    "    plt.legend()\n",
    "    plt.tight_layout()\n",
    "    plt.show()\n",
    "\n",
    "plot_performance(history)"
   ]
  },
  {
   "cell_type": "markdown",
   "metadata": {},
   "source": [
    "## Part III - Using the Model  \n",
    "A function that loads an image and runs it through the model:"
   ]
  },
  {
   "cell_type": "code",
   "execution_count": 102,
   "metadata": {},
   "outputs": [],
   "source": [
    "def differ(directory,model,size=(64,64),printing=True):\n",
    "    img = Image.open(directory).resize(size).convert('L')\n",
    "    plt.matshow(np.array(img) * 255, cmap='Greys');\n",
    "    arr = np.array(img)[:,:]/255\n",
    "    arr = arr.reshape((1,64,64,1))\n",
    "\n",
    "    result = model.predict(arr)\n",
    "    lesult = list(result[0,:])  # how likely the model considers the image to be each hiragana\n",
    "    maxid = lesult.index(max(lesult))  # and index the hiragana that has the highest likelihood\n",
    "\n",
    "    if printing:\n",
    "        print('the model thinks ' + os.path.basename(directory)+' is '+ goju[maxid])\n",
    "    return result"
   ]
  },
  {
   "cell_type": "code",
   "execution_count": 103,
   "metadata": {},
   "outputs": [
    {
     "name": "stdout",
     "output_type": "stream",
     "text": [
      "1/1 [==============================] - 0s 21ms/step\n",
      "the model thinks hatest.jpg is HA\n"
     ]
    },
    {
     "data": {
      "image/png": "[encoded data removed]",
      "text/plain": [
       "<Figure size 288x288 with 1 Axes>"
      ]
     },
     "metadata": {
      "needs_background": "light"
     },
     "output_type": "display_data"
    }
   ],
   "source": [
    "test_img = differ('hatest.jpg',model)"
   ]
  },
  {
   "cell_type": "markdown",
   "metadata": {},
   "source": [
    "Inspect the activations of a particular layer:"
   ]
  },
  {
   "cell_type": "code",
   "execution_count": 105,
   "metadata": {},
   "outputs": [
    {
     "name": "stdout",
     "output_type": "stream",
     "text": [
      "1/1 [==============================] - 0s 262ms/step\n"
     ]
    },
    {
     "name": "stderr",
     "output_type": "stream",
     "text": [
      "2022-10-04 13:28:45.895213: I tensorflow/core/grappler/optimizers/custom_graph_optimizer_registry.cc:113] Plugin optimizer for device_type GPU is enabled.\n"
     ]
    },
    {
     "data": {
      "image/png": "[encoded data removed]",
      "text/plain": [
       "<Figure size 1152x144 with 1 Axes>"
      ]
     },
     "metadata": {
      "needs_background": "light"
     },
     "output_type": "display_data"
    }
   ],
   "source": [
    "max_depth = 12  # 12 layers before flattening\n",
    "\n",
    "out = [layer.output for layer in model.layers[:max_depth]]\n",
    "activation_model = models.Model(inputs=model.input, outputs=out)\n",
    "\n",
    "def apply(directory,model,size=(64,64)):\n",
    "    img = Image.open(directory).resize(size).convert('L')\n",
    "    arr = np.array(img)[None,:,:]/255\n",
    "    return model.predict(arr)\n",
    "\n",
    "depth = 3  # which layer we are inspecting; 0,3,6,9 are Conv2D layers\n",
    "\n",
    "layer_activations = apply('hatest.jpg',activation_model)[depth]\n",
    "\n",
    "num_activations = layer_activations.shape[-1]\n",
    "list_activations = [layer_activations[0,:,:,i] for i in range(0,num_activations,4)]\n",
    "stacked_image = np.hstack(list_activations)\n",
    "plt.matshow(stacked_image, cmap='viridis');"
   ]
  },
  {
   "cell_type": "markdown",
   "metadata": {},
   "source": [
    "Inspecting the activation of multiple layers:"
   ]
  },
  {
   "cell_type": "code",
   "execution_count": 97,
   "metadata": {},
   "outputs": [
    {
     "name": "stdout",
     "output_type": "stream",
     "text": [
      "1/1 [==============================] - 0s 241ms/step\n"
     ]
    },
    {
     "name": "stderr",
     "output_type": "stream",
     "text": [
      "2022-10-03 17:35:37.049849: I tensorflow/core/grappler/optimizers/custom_graph_optimizer_registry.cc:113] Plugin optimizer for device_type GPU is enabled.\n",
      "/var/folders/ym/yc0z996s6c37l2vf09h8zn2c0000gn/T/ipykernel_19794/2698725569.py:6: RuntimeWarning: invalid value encountered in true_divide\n",
      "  array /= array.std()\n"
     ]
    },
    {
     "data": {
      "image/png": "[encoded data removed]",
      "text/plain": [
       "<Figure size 1152x144 with 1 Axes>"
      ]
     },
     "metadata": {
      "needs_background": "light"
     },
     "output_type": "display_data"
    },
    {
     "data": {
      "image/png": "[encoded data removed]",
      "text/plain": [
       "<Figure size 1152x144 with 1 Axes>"
      ]
     },
     "metadata": {
      "needs_background": "light"
     },
     "output_type": "display_data"
    },
    {
     "data": {
      "image/png": "[encoded data removed]",
      "text/plain": [
       "<Figure size 1152x144 with 1 Axes>"
      ]
     },
     "metadata": {
      "needs_background": "light"
     },
     "output_type": "display_data"
    },
    {
     "data": {
      "image/png": "[encoded data removed]",
      "text/plain": [
       "<Figure size 1152x144 with 1 Axes>"
      ]
     },
     "metadata": {
      "needs_background": "light"
     },
     "output_type": "display_data"
    }
   ],
   "source": [
    "# the following functions are adapted from \n",
    "# Francois Chollet's book Deep Learning with Python\n",
    "\n",
    "def arr_normalize(array):\n",
    "    assert isinstance(array, np.ndarray)\n",
    "    array -= array.mean()\n",
    "    array /= array.std()\n",
    "    return array\n",
    "\n",
    "def visualize(image, model, depth=12, row_length=16, filter=['pooling']):\n",
    "    layer_names = [layer.name for layer in model.layers[0:depth]]\n",
    "    output = [layer.output for layer in model.layers[0:depth]]\n",
    "    activation_model = models.Model(inputs=model.input, outputs=output)\n",
    "    activations = apply(image,activation_model)\n",
    "    \n",
    "    for layer_name, layer_activation in zip(layer_names, activations):\n",
    "\n",
    "        # if a list of filter keywords is provided, only visualize layers\n",
    "        # that match (one of) the keywords\n",
    "        if filter is None:\n",
    "            pass\n",
    "        elif not any(f in layer_name for f in filter):\n",
    "            continue\n",
    "\n",
    "        # building the grid for arranging the images\n",
    "        _, size, _, n_features = layer_activation.shape\n",
    "\n",
    "        ncols = n_features // row_length\n",
    "        grid = np.zeros((size*ncols, size*row_length))\n",
    "\n",
    "        # filling images into the grid\n",
    "        for col in range(ncols):\n",
    "            for row in range(row_length):\n",
    "                current_channel = col*row_length + row\n",
    "                channel_img = layer_activation[0,:,:,current_channel]\n",
    "                channel_img = arr_normalize(channel_img)\n",
    "                channel_img *= 64\n",
    "                channel_img += 128\n",
    "                channel_img = np.clip(channel_img, 0, 255).astype('uint8')\n",
    "\n",
    "                grid[col*size : (col+1)*size,\n",
    "                    row*size : (row+1)*size] = channel_img\n",
    "        \n",
    "        # displaying the gridded images\n",
    "        scale = 1/size\n",
    "        plt.figure(figsize = (scale*grid.shape[1], scale*grid.shape[0]))\n",
    "        plt.title(layer_name)\n",
    "        plt.grid(False)\n",
    "        plt.imshow(grid, aspect='auto', cmap='viridis')\n",
    "\n",
    "visualize('/Users/matthewan/Downloads/mutest.jpg', model, filter=['pooling'])"
   ]
  }
 ],
 "metadata": {
  "kernelspec": {
   "display_name": "Python 3 (ipykernel)",
   "language": "python",
   "name": "python3"
  },
  "language_info": {
   "codemirror_mode": {
    "name": "ipython",
    "version": 3
   },
   "file_extension": ".py",
   "mimetype": "text/x-python",
   "name": "python",
   "nbconvert_exporter": "python",
   "pygments_lexer": "ipython3",
   "version": "3.8.13"
  },
  "vscode": {
   "interpreter": {
    "hash": "3b707ad189c9274201b9a1b83366a82a1e5f8bd04623a5337e64efea24d0192d"
   }
  }
 },
 "nbformat": 4,
 "nbformat_minor": 2
}
